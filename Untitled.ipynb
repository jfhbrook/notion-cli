{
 "cells": [
  {
   "cell_type": "code",
   "execution_count": 1,
   "id": "80a832bf-ae32-4a26-9fa6-420d2d12ce85",
   "metadata": {},
   "outputs": [],
   "source": [
    "from notioncli.jupyter_ux import "
   ]
  },
  {
   "cell_type": "code",
   "execution_count": 2,
   "id": "f2aec122-a7a3-4a1e-88c9-a23abc21cf08",
   "metadata": {},
   "outputs": [
    {
     "data": {
      "text/markdown": [
       "## Configuration\n",
       "\n",
       "* **config_file**: /Users/jholbrook/.local/config/notion/cli.toml\n",
       "* **token**: 6603cbc7fd9e20ddbecf141e95dda7b5684e15d52cd4503f24939b778958856c637ef3515dce4532d5d3d6628877776d41643996752cc0a24be239708dca344dfb517de967b675eecea276a74a2b\n",
       "* **page**: https://www.notion.so/eaze/Sprint-6-5256e5ed8768487b86e750805a6a496a\n"
      ],
      "text/plain": [
       "Config(config_file=PosixPath('/Users/jholbrook/.local/config/notion/cli.toml'), token='6603cbc7fd9e20ddbecf141e95dda7b5684e15d52cd4503f24939b778958856c637ef3515dce4532d5d3d6628877776d41643996752cc0a24be239708dca344dfb517de967b675eecea276a74a2b', page='https://www.notion.so/eaze/Sprint-6-5256e5ed8768487b86e750805a6a496a')"
      ]
     },
     "execution_count": 2,
     "metadata": {},
     "output_type": "execute_result"
    }
   ],
   "source": [
    "ctx = Context()\n",
    "ctx.config"
   ]
  },
  {
   "cell_type": "code",
   "execution_count": 3,
   "id": "6a8509f6-c35e-4172-91fa-e8cea7d4a00a",
   "metadata": {},
   "outputs": [],
   "source": [
    "client = ctx.client"
   ]
  },
  {
   "cell_type": "code",
   "execution_count": null,
   "id": "7e5eab44-67a5-4779-b904-cad9142cecd6",
   "metadata": {},
   "outputs": [],
   "source": []
  }
 ],
 "metadata": {
  "kernelspec": {
   "display_name": "Python 3 (ipykernel)",
   "language": "python",
   "name": "python3"
  },
  "language_info": {
   "codemirror_mode": {
    "name": "ipython",
    "version": 3
   },
   "file_extension": ".py",
   "mimetype": "text/x-python",
   "name": "python",
   "nbconvert_exporter": "python",
   "pygments_lexer": "ipython3",
   "version": "3.9.9"
  }
 },
 "nbformat": 4,
 "nbformat_minor": 5
}
